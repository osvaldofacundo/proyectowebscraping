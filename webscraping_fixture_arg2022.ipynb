{
  "nbformat": 4,
  "nbformat_minor": 0,
  "metadata": {
    "colab": {
      "provenance": [],
      "collapsed_sections": [],
      "authorship_tag": "ABX9TyMlq2jf67/dKiMiQV9q5cVb",
      "include_colab_link": true
    },
    "kernelspec": {
      "name": "python3",
      "display_name": "Python 3"
    },
    "language_info": {
      "name": "python"
    }
  },
  "cells": [
    {
      "cell_type": "markdown",
      "metadata": {
        "id": "view-in-github",
        "colab_type": "text"
      },
      "source": [
        "<a href=\"https://colab.research.google.com/github/osvaldofacundo/proyectowebscraping/blob/main/webscraping_fixture_arg2022.ipynb\" target=\"_parent\"><img src=\"https://colab.research.google.com/assets/colab-badge.svg\" alt=\"Open In Colab\"/></a>"
      ]
    },
    {
      "cell_type": "code",
      "execution_count": 2,
      "metadata": {
        "id": "ksPQFeeAAdv0"
      },
      "outputs": [],
      "source": [
        "#llamamos las librerias \n",
        "from bs4 import BeautifulSoup\n",
        "import requests\n",
        "import pandas as pd\n",
        "import matplotlib.pyplot as plt\n",
        "import numpy as np\n",
        "import re\n",
        "import plotly.express as px"
      ]
    },
    {
      "cell_type": "code",
      "source": [
        "webpage= requests.get('https://ar.marca.com/claro/futbol/primera-division/fixture.html') #la página de donde sacaremos la data\n",
        "soup = BeautifulSoup(webpage.content, \"html.parser\") #descargamos el html"
      ],
      "metadata": {
        "id": "zl5-vB4SAfx_"
      },
      "execution_count": 3,
      "outputs": []
    },
    {
      "cell_type": "code",
      "source": [
        "# solo 18 fechas que son las que se jugaron y estan completas a la fecha 16/09/22\n",
        "fecha1= soup.find_all(id=\"jornada1\") # identificamos la tabla y buscams y extraemos ella del codigo html\n",
        "fecha2= soup.find_all(id=\"jornada2\")\n",
        "fecha3= soup.find_all(id=\"jornada3\")\n",
        "fecha4= soup.find_all(id=\"jornada4\")\n",
        "fecha5= soup.find_all(id=\"jornada5\")\n",
        "fecha6= soup.find_all(id=\"jornada6\")\n",
        "fecha7= soup.find_all(id=\"jornada7\")\n",
        "fecha8= soup.find_all(id=\"jornada8\")\n",
        "fecha9= soup.find_all(id=\"jornada9\")\n",
        "fecha10= soup.find_all(id=\"jornada10\")\n",
        "fecha11= soup.find_all(id=\"jornada11\")\n",
        "fecha12= soup.find_all(id=\"jornada12\")\n",
        "fecha13= soup.find_all(id=\"jornada13\")\n",
        "fecha14= soup.find_all(id=\"jornada14\")\n",
        "fecha15= soup.find_all(id=\"jornada15\")\n",
        "fecha16= soup.find_all(id=\"jornada16\")\n",
        "fecha17= soup.find_all(id=\"jornada17\")\n",
        "fecha18= soup.find_all(id=\"jornada18\")\n"
      ],
      "metadata": {
        "id": "jA70xF7rAkgE"
      },
      "execution_count": 12,
      "outputs": []
    },
    {
      "cell_type": "markdown",
      "source": [
        "Transformamos a texto cada porción de el codigo html correspondiente a cada tabla"
      ],
      "metadata": {
        "id": "KVs-lcDm_8mB"
      }
    },
    {
      "cell_type": "code",
      "source": [
        "fecha1= str(fecha1) # transformamos a str la tabla\n",
        "fecha2= str(fecha2)\n",
        "fecha3= str(fecha3)\n",
        "fecha4= str(fecha4)\n",
        "fecha5= str(fecha5)\n",
        "fecha6= str(fecha16)\n",
        "fecha7= str(fecha7)\n",
        "fecha8= str(fecha8)\n",
        "fecha9= str(fecha9)\n",
        "fecha10= str(fecha10)\n",
        "fecha11= str(fecha11)\n",
        "fecha12= str(fecha12)\n",
        "fecha13= str(fecha13)\n",
        "fecha14= str(fecha14)\n",
        "fecha15= str(fecha15)\n",
        "fecha16= str(fecha16)\n",
        "fecha17= str(fecha17)\n",
        "fecha18= str(fecha18)"
      ],
      "metadata": {
        "id": "irI_mnLQp4tD"
      },
      "execution_count": 13,
      "outputs": []
    },
    {
      "cell_type": "code",
      "source": [
        "fecha1= re.sub(r'<.*?>', lambda g: g.group(0).upper(), fecha1) #cambiamos a mayusculas\n",
        "fecha2= re.sub(r'<.*?>', lambda g: g.group(0).upper(), fecha2)\n",
        "fecha3= re.sub(r'<.*?>', lambda g: g.group(0).upper(), fecha3)\n",
        "fecha4= re.sub(r'<.*?>', lambda g: g.group(0).upper(), fecha4)\n",
        "fecha5= re.sub(r'<.*?>', lambda g: g.group(0).upper(), fecha5)\n",
        "fecha6= re.sub(r'<.*?>', lambda g: g.group(0).upper(), fecha6)\n",
        "fecha7= re.sub(r'<.*?>', lambda g: g.group(0).upper(), fecha7)\n",
        "fecha8= re.sub(r'<.*?>', lambda g: g.group(0).upper(), fecha8)\n",
        "fecha9= re.sub(r'<.*?>', lambda g: g.group(0).upper(), fecha9)\n",
        "fecha10= re.sub(r'<.*?>', lambda g: g.group(0).upper(), fecha10)\n",
        "fecha11= re.sub(r'<.*?>', lambda g: g.group(0).upper(), fecha11)\n",
        "fecha12= re.sub(r'<.*?>', lambda g: g.group(0).upper(), fecha12)\n",
        "fecha13= re.sub(r'<.*?>', lambda g: g.group(0).upper(), fecha13)\n",
        "fecha14= re.sub(r'<.*?>', lambda g: g.group(0).upper(), fecha14)\n",
        "fecha15= re.sub(r'<.*?>', lambda g: g.group(0).upper(), fecha15)\n",
        "fecha16= re.sub(r'<.*?>', lambda g: g.group(0).upper(), fecha16)\n",
        "fecha17= re.sub(r'<.*?>', lambda g: g.group(0).upper(), fecha17)\n",
        "fecha18= re.sub(r'<.*?>', lambda g: g.group(0).upper(), fecha18)\n"
      ],
      "metadata": {
        "id": "Ir28GXKOp5tp"
      },
      "execution_count": 14,
      "outputs": []
    },
    {
      "cell_type": "markdown",
      "source": [
        "Pasamos cada codigo a un dataframe correspondiente a cada fecha"
      ],
      "metadata": {
        "id": "uI3BEt2qAIMW"
      }
    },
    {
      "cell_type": "code",
      "source": [
        "dfecha1 = pd.read_html(fecha1)[0]\n",
        "dfecha2= pd.read_html(fecha2)[0]\n",
        "dfecha3= pd.read_html(fecha3)[0]\n",
        "dfecha4= pd.read_html(fecha4)[0]\n",
        "dfecha5= pd.read_html(fecha5)[0]\n",
        "dfecha6= pd.read_html(fecha6)[0]\n",
        "dfecha7= pd.read_html(fecha7)[0]\n",
        "dfecha8= pd.read_html(fecha8)[0]\n",
        "dfecha9= pd.read_html(fecha9)[0]\n",
        "dfecha10= pd.read_html(fecha10)[0]\n",
        "dfecha11= pd.read_html(fecha11)[0]\n",
        "dfecha12= pd.read_html(fecha12)[0]\n",
        "dfecha13= pd.read_html(fecha13)[0]\n",
        "dfecha14= pd.read_html(fecha14)[0]\n",
        "dfecha15= pd.read_html(fecha15)[0]\n",
        "dfecha16= pd.read_html(fecha16)[0]\n",
        "dfecha17= pd.read_html(fecha17)[0]\n",
        "dfecha18= pd.read_html(fecha18)[0]"
      ],
      "metadata": {
        "id": "WmgXs8DHp7U4"
      },
      "execution_count": 19,
      "outputs": []
    },
    {
      "cell_type": "markdown",
      "source": [
        "Creamos una nueva columna de nombre fecha - donde le asignamos el numero de jornada a la que corresponde. Así podremos identificar más adelante a que jornada/fecha del campeonato corresponde cada partido"
      ],
      "metadata": {
        "id": "E6hdIIX0AQSe"
      }
    },
    {
      "cell_type": "code",
      "source": [
        "dfecha1['fecha']=1\n",
        "dfecha2['fecha']=2\n",
        "dfecha3['fecha']=3\n",
        "dfecha4['fecha']=4\n",
        "dfecha5['fecha']=5\n",
        "dfecha6['fecha']=6\n",
        "dfecha7['fecha']=7\n",
        "dfecha8['fecha']=8\n",
        "dfecha9['fecha']=9\n",
        "dfecha10['fecha']=10\n",
        "dfecha11['fecha']=11\n",
        "dfecha12['fecha']=12\n",
        "dfecha13['fecha']=13\n",
        "dfecha14['fecha']=14\n",
        "dfecha15['fecha']=15\n",
        "dfecha16['fecha']=16\n",
        "dfecha17['fecha']=17\n",
        "dfecha18['fecha']=18"
      ],
      "metadata": {
        "id": "eNgdB86iqFfS"
      },
      "execution_count": 22,
      "outputs": []
    },
    {
      "cell_type": "markdown",
      "source": [
        "Concatenamos todos los dataframe de fechas de manera de tener uno solo con todos los partidos jugados."
      ],
      "metadata": {
        "id": "WAHcMY7WAgWs"
      }
    },
    {
      "cell_type": "code",
      "source": [
        "fixture2022 = pd.concat([dfecha1, dfecha2, dfecha3, dfecha4, dfecha5, dfecha6, dfecha7, dfecha8, dfecha9,\n",
        "                             dfecha10, dfecha11, dfecha12, dfecha13, dfecha14, dfecha15,\n",
        "                             dfecha16, dfecha17, dfecha18], axis=0)"
      ],
      "metadata": {
        "id": "G_T2Qff84EcI"
      },
      "execution_count": 25,
      "outputs": []
    },
    {
      "cell_type": "code",
      "source": [
        "fixture2022"
      ],
      "metadata": {
        "colab": {
          "base_uri": "https://localhost:8080/",
          "height": 424
        },
        "id": "utQaAvTv59tv",
        "outputId": "b594c046-667a-4340-f316-5d6209f3f2fe"
      },
      "execution_count": 31,
      "outputs": [
        {
          "output_type": "execute_result",
          "data": {
            "text/plain": [
              "           Equipo local Resultado                       Equipo visitante  \\\n",
              "0      Barracas Central       1-1  Central Córdoba (Santiago del Estero)   \n",
              "1      Atlético Tucumán       1-1                         Colón Santa Fe   \n",
              "2           San Lorenzo       1-1                          Independiente   \n",
              "3              Banfield       1-2                      Newell's Old Boys   \n",
              "4             Patronato       1-1                        Vélez Sarsfield   \n",
              "..                  ...       ...                                    ...   \n",
              "9              Banfield       2-1                         Colón Santa Fe   \n",
              "10   Arsenal de Sarandí       2-2                        Vélez Sarsfield   \n",
              "11    Newell's Old Boys       2-0                      Gimnasia La Plata   \n",
              "12         Boca Juniors       1-0                            River Plate   \n",
              "13  Talleres de Córdoba       1-0                     Defensa y Justicia   \n",
              "\n",
              "    fecha  \n",
              "0       1  \n",
              "1       1  \n",
              "2       1  \n",
              "3       1  \n",
              "4       1  \n",
              "..    ...  \n",
              "9      18  \n",
              "10     18  \n",
              "11     18  \n",
              "12     18  \n",
              "13     18  \n",
              "\n",
              "[252 rows x 4 columns]"
            ],
            "text/html": [
              "\n",
              "  <div id=\"df-baef82e9-5ed2-42db-b819-53691c77dc67\">\n",
              "    <div class=\"colab-df-container\">\n",
              "      <div>\n",
              "<style scoped>\n",
              "    .dataframe tbody tr th:only-of-type {\n",
              "        vertical-align: middle;\n",
              "    }\n",
              "\n",
              "    .dataframe tbody tr th {\n",
              "        vertical-align: top;\n",
              "    }\n",
              "\n",
              "    .dataframe thead th {\n",
              "        text-align: right;\n",
              "    }\n",
              "</style>\n",
              "<table border=\"1\" class=\"dataframe\">\n",
              "  <thead>\n",
              "    <tr style=\"text-align: right;\">\n",
              "      <th></th>\n",
              "      <th>Equipo local</th>\n",
              "      <th>Resultado</th>\n",
              "      <th>Equipo visitante</th>\n",
              "      <th>fecha</th>\n",
              "    </tr>\n",
              "  </thead>\n",
              "  <tbody>\n",
              "    <tr>\n",
              "      <th>0</th>\n",
              "      <td>Barracas Central</td>\n",
              "      <td>1-1</td>\n",
              "      <td>Central Córdoba (Santiago del Estero)</td>\n",
              "      <td>1</td>\n",
              "    </tr>\n",
              "    <tr>\n",
              "      <th>1</th>\n",
              "      <td>Atlético Tucumán</td>\n",
              "      <td>1-1</td>\n",
              "      <td>Colón Santa Fe</td>\n",
              "      <td>1</td>\n",
              "    </tr>\n",
              "    <tr>\n",
              "      <th>2</th>\n",
              "      <td>San Lorenzo</td>\n",
              "      <td>1-1</td>\n",
              "      <td>Independiente</td>\n",
              "      <td>1</td>\n",
              "    </tr>\n",
              "    <tr>\n",
              "      <th>3</th>\n",
              "      <td>Banfield</td>\n",
              "      <td>1-2</td>\n",
              "      <td>Newell's Old Boys</td>\n",
              "      <td>1</td>\n",
              "    </tr>\n",
              "    <tr>\n",
              "      <th>4</th>\n",
              "      <td>Patronato</td>\n",
              "      <td>1-1</td>\n",
              "      <td>Vélez Sarsfield</td>\n",
              "      <td>1</td>\n",
              "    </tr>\n",
              "    <tr>\n",
              "      <th>...</th>\n",
              "      <td>...</td>\n",
              "      <td>...</td>\n",
              "      <td>...</td>\n",
              "      <td>...</td>\n",
              "    </tr>\n",
              "    <tr>\n",
              "      <th>9</th>\n",
              "      <td>Banfield</td>\n",
              "      <td>2-1</td>\n",
              "      <td>Colón Santa Fe</td>\n",
              "      <td>18</td>\n",
              "    </tr>\n",
              "    <tr>\n",
              "      <th>10</th>\n",
              "      <td>Arsenal de Sarandí</td>\n",
              "      <td>2-2</td>\n",
              "      <td>Vélez Sarsfield</td>\n",
              "      <td>18</td>\n",
              "    </tr>\n",
              "    <tr>\n",
              "      <th>11</th>\n",
              "      <td>Newell's Old Boys</td>\n",
              "      <td>2-0</td>\n",
              "      <td>Gimnasia La Plata</td>\n",
              "      <td>18</td>\n",
              "    </tr>\n",
              "    <tr>\n",
              "      <th>12</th>\n",
              "      <td>Boca Juniors</td>\n",
              "      <td>1-0</td>\n",
              "      <td>River Plate</td>\n",
              "      <td>18</td>\n",
              "    </tr>\n",
              "    <tr>\n",
              "      <th>13</th>\n",
              "      <td>Talleres de Córdoba</td>\n",
              "      <td>1-0</td>\n",
              "      <td>Defensa y Justicia</td>\n",
              "      <td>18</td>\n",
              "    </tr>\n",
              "  </tbody>\n",
              "</table>\n",
              "<p>252 rows × 4 columns</p>\n",
              "</div>\n",
              "      <button class=\"colab-df-convert\" onclick=\"convertToInteractive('df-baef82e9-5ed2-42db-b819-53691c77dc67')\"\n",
              "              title=\"Convert this dataframe to an interactive table.\"\n",
              "              style=\"display:none;\">\n",
              "        \n",
              "  <svg xmlns=\"http://www.w3.org/2000/svg\" height=\"24px\"viewBox=\"0 0 24 24\"\n",
              "       width=\"24px\">\n",
              "    <path d=\"M0 0h24v24H0V0z\" fill=\"none\"/>\n",
              "    <path d=\"M18.56 5.44l.94 2.06.94-2.06 2.06-.94-2.06-.94-.94-2.06-.94 2.06-2.06.94zm-11 1L8.5 8.5l.94-2.06 2.06-.94-2.06-.94L8.5 2.5l-.94 2.06-2.06.94zm10 10l.94 2.06.94-2.06 2.06-.94-2.06-.94-.94-2.06-.94 2.06-2.06.94z\"/><path d=\"M17.41 7.96l-1.37-1.37c-.4-.4-.92-.59-1.43-.59-.52 0-1.04.2-1.43.59L10.3 9.45l-7.72 7.72c-.78.78-.78 2.05 0 2.83L4 21.41c.39.39.9.59 1.41.59.51 0 1.02-.2 1.41-.59l7.78-7.78 2.81-2.81c.8-.78.8-2.07 0-2.86zM5.41 20L4 18.59l7.72-7.72 1.47 1.35L5.41 20z\"/>\n",
              "  </svg>\n",
              "      </button>\n",
              "      \n",
              "  <style>\n",
              "    .colab-df-container {\n",
              "      display:flex;\n",
              "      flex-wrap:wrap;\n",
              "      gap: 12px;\n",
              "    }\n",
              "\n",
              "    .colab-df-convert {\n",
              "      background-color: #E8F0FE;\n",
              "      border: none;\n",
              "      border-radius: 50%;\n",
              "      cursor: pointer;\n",
              "      display: none;\n",
              "      fill: #1967D2;\n",
              "      height: 32px;\n",
              "      padding: 0 0 0 0;\n",
              "      width: 32px;\n",
              "    }\n",
              "\n",
              "    .colab-df-convert:hover {\n",
              "      background-color: #E2EBFA;\n",
              "      box-shadow: 0px 1px 2px rgba(60, 64, 67, 0.3), 0px 1px 3px 1px rgba(60, 64, 67, 0.15);\n",
              "      fill: #174EA6;\n",
              "    }\n",
              "\n",
              "    [theme=dark] .colab-df-convert {\n",
              "      background-color: #3B4455;\n",
              "      fill: #D2E3FC;\n",
              "    }\n",
              "\n",
              "    [theme=dark] .colab-df-convert:hover {\n",
              "      background-color: #434B5C;\n",
              "      box-shadow: 0px 1px 3px 1px rgba(0, 0, 0, 0.15);\n",
              "      filter: drop-shadow(0px 1px 2px rgba(0, 0, 0, 0.3));\n",
              "      fill: #FFFFFF;\n",
              "    }\n",
              "  </style>\n",
              "\n",
              "      <script>\n",
              "        const buttonEl =\n",
              "          document.querySelector('#df-baef82e9-5ed2-42db-b819-53691c77dc67 button.colab-df-convert');\n",
              "        buttonEl.style.display =\n",
              "          google.colab.kernel.accessAllowed ? 'block' : 'none';\n",
              "\n",
              "        async function convertToInteractive(key) {\n",
              "          const element = document.querySelector('#df-baef82e9-5ed2-42db-b819-53691c77dc67');\n",
              "          const dataTable =\n",
              "            await google.colab.kernel.invokeFunction('convertToInteractive',\n",
              "                                                     [key], {});\n",
              "          if (!dataTable) return;\n",
              "\n",
              "          const docLinkHtml = 'Like what you see? Visit the ' +\n",
              "            '<a target=\"_blank\" href=https://colab.research.google.com/notebooks/data_table.ipynb>data table notebook</a>'\n",
              "            + ' to learn more about interactive tables.';\n",
              "          element.innerHTML = '';\n",
              "          dataTable['output_type'] = 'display_data';\n",
              "          await google.colab.output.renderOutput(dataTable, element);\n",
              "          const docLink = document.createElement('div');\n",
              "          docLink.innerHTML = docLinkHtml;\n",
              "          element.appendChild(docLink);\n",
              "        }\n",
              "      </script>\n",
              "    </div>\n",
              "  </div>\n",
              "  "
            ]
          },
          "metadata": {},
          "execution_count": 31
        }
      ]
    },
    {
      "cell_type": "markdown",
      "source": [
        "252 rows y cuantro columnas"
      ],
      "metadata": {
        "id": "g53dJrBCAtq0"
      }
    },
    {
      "cell_type": "markdown",
      "source": [
        "descargamos el dataframe a un archivo csv"
      ],
      "metadata": {
        "id": "OKvBTgtNBL90"
      }
    },
    {
      "cell_type": "code",
      "source": [
        "fixture2022.to_csv('fixtureliga_arg_2022.csv', encoding='utf-8') # pasamos el dataframe a un archivo csv"
      ],
      "metadata": {
        "id": "23mtV6rW-W50"
      },
      "execution_count": 32,
      "outputs": []
    }
  ]
}